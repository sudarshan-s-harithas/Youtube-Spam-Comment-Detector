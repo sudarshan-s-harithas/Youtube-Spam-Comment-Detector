{
  "nbformat": 4,
  "nbformat_minor": 0,
  "metadata": {
    "colab": {
      "name": "Decision\ttrees.ipynb",
      "version": "0.3.2",
      "provenance": [],
      "collapsed_sections": [],
      "include_colab_link": true
    },
    "kernelspec": {
      "name": "python3",
      "display_name": "Python 3"
    }
  },
  "cells": [
    {
      "cell_type": "markdown",
      "metadata": {
        "id": "view-in-github",
        "colab_type": "text"
      },
      "source": [
        "<a href=\"https://colab.research.google.com/github/sudarshan-s-harithas/Youtube-Spam-Comment-Detector/blob/master/Decision%09trees.ipynb\" target=\"_parent\"><img src=\"https://colab.research.google.com/assets/colab-badge.svg\" alt=\"Open In Colab\"/></a>"
      ]
    },
    {
      "cell_type": "markdown",
      "metadata": {
        "id": "UK9ZgKm2aLFS",
        "colab_type": "text"
      },
      "source": [
        "In this section, we will be using decision trees and student performance data to predict whether a child will do well in school.We'll\tuse\tthe\tstudent\tperformance dataset,\twhich\tis\tavailable\ton\tthe\tUC\tIrvine\tmachine\tlearning\trepository\tat\t**https: //archive.ics.uci.edu/ml/datasets/student+performance**.\tOur\tfinal\tgoal\tis\tto\tpredict whether\tthe\tstudent\thas\tpassed\tor\tfailed.\tThe\tdataset\tcontains\tthe\tdata\tof\tabout 649\tstudents,\twith\tand\t30\tattributes\tfor\teach\tstudent.\t"
      ]
    },
    {
      "cell_type": "code",
      "metadata": {
        "id": "5UJQMNAoIhEh",
        "colab_type": "code",
        "colab": {}
      },
      "source": [
        "import pandas as pd   ## importing the pandas library "
      ],
      "execution_count": 0,
      "outputs": []
    },
    {
      "cell_type": "code",
      "metadata": {
        "id": "oGNhpo2iIkP_",
        "colab_type": "code",
        "outputId": "543bf05e-bdbc-4f6f-d4f9-17d16ffbd147",
        "colab": {
          "resources": {
            "http://localhost:8080/nbextensions/google.colab/files.js": {
              "data": "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",
              "ok": true,
              "headers": [
                [
                  "content-type",
                  "application/javascript"
                ]
              ],
              "status": 200,
              "status_text": ""
            }
          },
          "base_uri": "https://localhost:8080/",
          "height": 93
        }
      },
      "source": [
        "## Uploading data from the local computer\n",
        "\n",
        "from google.colab import files\n",
        "\n",
        "uploaded = files.upload()\n",
        "\n",
        "for fn in uploaded.keys():\n",
        "  print('User uploaded file \"student-por.csv\" '.format(\n",
        "      name=fn, length=len(uploaded[fn])))"
      ],
      "execution_count": 0,
      "outputs": [
        {
          "output_type": "display_data",
          "data": {
            "text/html": [
              "\n",
              "     <input type=\"file\" id=\"files-cb668970-fd13-45e3-a5e5-9ddfd04f5ff0\" name=\"files[]\" multiple disabled />\n",
              "     <output id=\"result-cb668970-fd13-45e3-a5e5-9ddfd04f5ff0\">\n",
              "      Upload widget is only available when the cell has been executed in the\n",
              "      current browser session. Please rerun this cell to enable.\n",
              "      </output>\n",
              "      <script src=\"/nbextensions/google.colab/files.js\"></script> "
            ],
            "text/plain": [
              "<IPython.core.display.HTML object>"
            ]
          },
          "metadata": {
            "tags": []
          }
        },
        {
          "output_type": "stream",
          "text": [
            "Saving student-por.csv to student-por (1).csv\n",
            "User uploaded file \"student-por.csv\" \n"
          ],
          "name": "stdout"
        }
      ]
    },
    {
      "cell_type": "code",
      "metadata": {
        "id": "pKjDG7tVIpx9",
        "colab_type": "code",
        "outputId": "9aa441ff-12fd-4424-f63f-b1c0740a2e50",
        "colab": {
          "base_uri": "https://localhost:8080/",
          "height": 1000
        }
      },
      "source": [
        "## The CSV file is read\n",
        "\n",
        "data = pd.read_csv('student-por.csv', sep=';')\n",
        "\n",
        "## The G1,G2,G3 is added and if the sum is greater than 35 , 1 is assigned to pass variable eolse 0 is assigned to pass\n",
        "\n",
        "data['pass'] = data.apply(lambda row: 1 if (row['G1']+row['G2']+row['G3']) >= 35 else 0, axis=1)\n",
        "\n",
        "print(data)\n",
        "\n",
        "## The G1,G2,G3 coloumns are remeoved from the dataset\n",
        "data = data.drop(['G1', 'G2', 'G3'], axis=1)\n",
        "\n",
        "\n"
      ],
      "execution_count": 0,
      "outputs": [
        {
          "output_type": "stream",
          "text": [
            "    school sex  age address famsize Pstatus  ...  health  absences  G1  G2  G3 pass\n",
            "0       GP   F   18       U     GT3       A  ...       3         4   0  11  11    0\n",
            "1       GP   F   17       U     GT3       T  ...       3         2   9  11  11    0\n",
            "2       GP   F   15       U     LE3       T  ...       3         6  12  13  12    1\n",
            "3       GP   F   15       U     GT3       T  ...       5         0  14  14  14    1\n",
            "4       GP   F   16       U     GT3       T  ...       5         0  11  13  13    1\n",
            "5       GP   M   16       U     LE3       T  ...       5         6  12  12  13    1\n",
            "6       GP   M   16       U     LE3       T  ...       3         0  13  12  13    1\n",
            "7       GP   F   17       U     GT3       A  ...       1         2  10  13  13    1\n",
            "8       GP   M   15       U     LE3       A  ...       1         0  15  16  17    1\n",
            "9       GP   M   15       U     GT3       T  ...       5         0  12  12  13    1\n",
            "10      GP   F   15       U     GT3       T  ...       2         2  14  14  14    1\n",
            "11      GP   F   15       U     GT3       T  ...       4         0  10  12  13    1\n",
            "12      GP   M   15       U     LE3       T  ...       5         0  12  13  12    1\n",
            "13      GP   M   15       U     GT3       T  ...       3         0  12  12  13    1\n",
            "14      GP   M   15       U     GT3       A  ...       3         0  14  14  15    1\n",
            "15      GP   F   16       U     GT3       T  ...       2         6  17  17  17    1\n",
            "16      GP   F   16       U     GT3       T  ...       2        10  13  13  14    1\n",
            "17      GP   F   16       U     GT3       T  ...       4         2  13  14  14    1\n",
            "18      GP   M   17       U     GT3       T  ...       5         2   8   8   7    0\n",
            "19      GP   M   16       U     LE3       T  ...       5         6  12  12  12    1\n",
            "20      GP   M   15       U     GT3       T  ...       1         0  12  13  14    1\n",
            "21      GP   M   15       U     GT3       T  ...       5         0  11  12  12    1\n",
            "22      GP   M   16       U     LE3       T  ...       5         0  12  13  14    1\n",
            "23      GP   M   16       U     LE3       T  ...       5         2  10  10  10    0\n",
            "24      GP   F   15       R     GT3       T  ...       5         2  10  11  10    0\n",
            "25      GP   F   16       U     GT3       T  ...       5         6  10  11  12    0\n",
            "26      GP   M   15       U     GT3       T  ...       5         8  11  12  12    1\n",
            "27      GP   M   15       U     GT3       T  ...       1         0  11  11  11    0\n",
            "28      GP   M   16       U     LE3       A  ...       5         2  12  12  13    1\n",
            "29      GP   M   16       U     GT3       T  ...       5         4  12  11  12    1\n",
            "..     ...  ..  ...     ...     ...     ...  ...     ...       ...  ..  ..  ..  ...\n",
            "619     MS   F   18       U     GT3       T  ...       3         6  13  12  13    1\n",
            "620     MS   F   17       U     LE3       T  ...       1         4  15  14  15    1\n",
            "621     MS   F   17       R     GT3       T  ...       3         0  13  13  13    1\n",
            "622     MS   M   18       R     GT3       T  ...       3         0   8  10   9    0\n",
            "623     MS   M   18       U     LE3       T  ...       5         0  15  16  16    1\n",
            "624     MS   F   17       R     GT3       T  ...       1         0   8   8   9    0\n",
            "625     MS   F   18       U     GT3       T  ...       4         0  10  10  10    0\n",
            "626     MS   F   18       R     GT3       T  ...       5         0   7   5   0    0\n",
            "627     MS   M   18       R     LE3       T  ...       3         3   9  10  10    0\n",
            "628     MS   F   17       U     GT3       T  ...       3         8  10  11  12    0\n",
            "629     MS   F   17       R     GT3       T  ...       1         4   7   8   9    0\n",
            "630     MS   F   18       R     LE3       T  ...       1         0  15  17  17    1\n",
            "631     MS   F   18       R     GT3       T  ...       4         4  10  11  12    0\n",
            "632     MS   F   19       R     GT3       T  ...       3         4   7   8   9    0\n",
            "633     MS   F   18       R     LE3       T  ...       2         1  13  14  14    1\n",
            "634     MS   F   18       U     GT3       T  ...       1         1  16  16  16    1\n",
            "635     MS   F   17       R     GT3       T  ...       1        10   8   9   9    0\n",
            "636     MS   M   18       U     GT3       T  ...       2         4  17  18  19    1\n",
            "637     MS   M   18       R     GT3       T  ...       5         0   7   7   0    0\n",
            "638     MS   M   17       U     GT3       T  ...       3         4  14  15  16    1\n",
            "639     MS   M   19       R     GT3       T  ...       5         0   5   8   0    0\n",
            "640     MS   M   18       R     GT3       T  ...       3         0   7   7   0    0\n",
            "641     MS   F   18       R     GT3       T  ...       4         0  14  17  15    1\n",
            "642     MS   F   17       U     GT3       T  ...       1         0   6   9  11    0\n",
            "643     MS   F   18       R     GT3       T  ...       5         4   7   9  10    0\n",
            "644     MS   F   19       R     GT3       T  ...       5         4  10  11  10    0\n",
            "645     MS   F   18       U     LE3       T  ...       1         4  15  15  16    1\n",
            "646     MS   F   18       U     GT3       T  ...       5         6  11  12   9    0\n",
            "647     MS   M   17       U     LE3       T  ...       2         6  10  10  10    0\n",
            "648     MS   M   18       R     LE3       T  ...       5         4  10  11  11    0\n",
            "\n",
            "[649 rows x 34 columns]\n"
          ],
          "name": "stdout"
        }
      ]
    },
    {
      "cell_type": "code",
      "metadata": {
        "id": "pWub6vFhJxnp",
        "colab_type": "code",
        "outputId": "bf979e8c-dc54-4c97-fb4c-45c4f276e0e0",
        "colab": {
          "base_uri": "https://localhost:8080/",
          "height": 1000
        }
      },
      "source": [
        "print(data) ## The dataset is displayed below without G1,G2,G3"
      ],
      "execution_count": 0,
      "outputs": [
        {
          "output_type": "stream",
          "text": [
            "    school sex  age address famsize  ... Dalc  Walc  health absences pass\n",
            "0       GP   F   18       U     GT3  ...    1     1       3        4    0\n",
            "1       GP   F   17       U     GT3  ...    1     1       3        2    0\n",
            "2       GP   F   15       U     LE3  ...    2     3       3        6    1\n",
            "3       GP   F   15       U     GT3  ...    1     1       5        0    1\n",
            "4       GP   F   16       U     GT3  ...    1     2       5        0    1\n",
            "5       GP   M   16       U     LE3  ...    1     2       5        6    1\n",
            "6       GP   M   16       U     LE3  ...    1     1       3        0    1\n",
            "7       GP   F   17       U     GT3  ...    1     1       1        2    1\n",
            "8       GP   M   15       U     LE3  ...    1     1       1        0    1\n",
            "9       GP   M   15       U     GT3  ...    1     1       5        0    1\n",
            "10      GP   F   15       U     GT3  ...    1     2       2        2    1\n",
            "11      GP   F   15       U     GT3  ...    1     1       4        0    1\n",
            "12      GP   M   15       U     LE3  ...    1     3       5        0    1\n",
            "13      GP   M   15       U     GT3  ...    1     2       3        0    1\n",
            "14      GP   M   15       U     GT3  ...    1     1       3        0    1\n",
            "15      GP   F   16       U     GT3  ...    1     2       2        6    1\n",
            "16      GP   F   16       U     GT3  ...    1     2       2       10    1\n",
            "17      GP   F   16       U     GT3  ...    1     1       4        2    1\n",
            "18      GP   M   17       U     GT3  ...    2     4       5        2    0\n",
            "19      GP   M   16       U     LE3  ...    1     3       5        6    1\n",
            "20      GP   M   15       U     GT3  ...    1     1       1        0    1\n",
            "21      GP   M   15       U     GT3  ...    1     1       5        0    1\n",
            "22      GP   M   16       U     LE3  ...    1     3       5        0    1\n",
            "23      GP   M   16       U     LE3  ...    2     4       5        2    0\n",
            "24      GP   F   15       R     GT3  ...    1     1       5        2    0\n",
            "25      GP   F   16       U     GT3  ...    1     3       5        6    0\n",
            "26      GP   M   15       U     GT3  ...    1     2       5        8    1\n",
            "27      GP   M   15       U     GT3  ...    2     4       1        0    0\n",
            "28      GP   M   16       U     LE3  ...    1     1       5        2    1\n",
            "29      GP   M   16       U     GT3  ...    5     5       5        4    1\n",
            "..     ...  ..  ...     ...     ...  ...  ...   ...     ...      ...  ...\n",
            "619     MS   F   18       U     GT3  ...    1     3       3        6    1\n",
            "620     MS   F   17       U     LE3  ...    1     1       1        4    1\n",
            "621     MS   F   17       R     GT3  ...    1     2       3        0    1\n",
            "622     MS   M   18       R     GT3  ...    2     4       3        0    0\n",
            "623     MS   M   18       U     LE3  ...    2     2       5        0    1\n",
            "624     MS   F   17       R     GT3  ...    1     2       1        0    0\n",
            "625     MS   F   18       U     GT3  ...    1     2       4        0    0\n",
            "626     MS   F   18       R     GT3  ...    4     2       5        0    0\n",
            "627     MS   M   18       R     LE3  ...    2     3       3        3    0\n",
            "628     MS   F   17       U     GT3  ...    1     1       3        8    0\n",
            "629     MS   F   17       R     GT3  ...    1     3       1        4    0\n",
            "630     MS   F   18       R     LE3  ...    1     1       1        0    1\n",
            "631     MS   F   18       R     GT3  ...    1     2       4        4    0\n",
            "632     MS   F   19       R     GT3  ...    1     1       3        4    0\n",
            "633     MS   F   18       R     LE3  ...    3     4       2        1    1\n",
            "634     MS   F   18       U     GT3  ...    1     2       1        1    1\n",
            "635     MS   F   17       R     GT3  ...    2     3       1       10    0\n",
            "636     MS   M   18       U     GT3  ...    1     4       2        4    1\n",
            "637     MS   M   18       R     GT3  ...    1     3       5        0    0\n",
            "638     MS   M   17       U     GT3  ...    1     1       3        4    1\n",
            "639     MS   M   19       R     GT3  ...    1     3       5        0    0\n",
            "640     MS   M   18       R     GT3  ...    4     3       3        0    0\n",
            "641     MS   F   18       R     GT3  ...    1     3       4        0    1\n",
            "642     MS   F   17       U     GT3  ...    1     1       1        0    0\n",
            "643     MS   F   18       R     GT3  ...    2     2       5        4    0\n",
            "644     MS   F   19       R     GT3  ...    1     2       5        4    0\n",
            "645     MS   F   18       U     LE3  ...    1     1       1        4    1\n",
            "646     MS   F   18       U     GT3  ...    1     1       5        6    0\n",
            "647     MS   M   17       U     LE3  ...    3     4       2        6    0\n",
            "648     MS   M   18       R     LE3  ...    3     4       5        4    0\n",
            "\n",
            "[649 rows x 31 columns]\n"
          ],
          "name": "stdout"
        }
      ]
    },
    {
      "cell_type": "code",
      "metadata": {
        "id": "ma90ql9VJ0sW",
        "colab_type": "code",
        "outputId": "e6ffbcbf-a4b2-40e1-df89-ce6c4d5974c1",
        "colab": {
          "base_uri": "https://localhost:8080/",
          "height": 1000
        }
      },
      "source": [
        "## the get_dummies function is used to assign dummy values to the designed coloumns\n",
        "\n",
        "data = pd.get_dummies(data, columns=['sex', 'school', 'address', 'famsize', 'Pstatus', 'Mjob', 'Fjob', \n",
        "                               'reason', 'guardian', 'schoolsup', 'famsup', 'paid', 'activities',\n",
        "                               'nursery', 'higher', 'internet', 'romantic'])\n",
        "\n",
        "print(data)"
      ],
      "execution_count": 0,
      "outputs": [
        {
          "output_type": "stream",
          "text": [
            "     age  Medu  Fedu  ...  internet_yes  romantic_no  romantic_yes\n",
            "0     18     4     4  ...             0            1             0\n",
            "1     17     1     1  ...             1            1             0\n",
            "2     15     1     1  ...             1            1             0\n",
            "3     15     4     2  ...             1            0             1\n",
            "4     16     3     3  ...             0            1             0\n",
            "5     16     4     3  ...             1            1             0\n",
            "6     16     2     2  ...             1            1             0\n",
            "7     17     4     4  ...             0            1             0\n",
            "8     15     3     2  ...             1            1             0\n",
            "9     15     3     4  ...             1            1             0\n",
            "10    15     4     4  ...             1            1             0\n",
            "11    15     2     1  ...             1            1             0\n",
            "12    15     4     4  ...             1            1             0\n",
            "13    15     4     3  ...             1            1             0\n",
            "14    15     2     2  ...             1            0             1\n",
            "15    16     4     4  ...             1            1             0\n",
            "16    16     4     4  ...             1            1             0\n",
            "17    16     3     3  ...             0            1             0\n",
            "18    17     3     2  ...             1            1             0\n",
            "19    16     4     3  ...             1            1             0\n",
            "20    15     4     3  ...             1            1             0\n",
            "21    15     4     4  ...             1            1             0\n",
            "22    16     4     2  ...             1            1             0\n",
            "23    16     2     2  ...             1            1             0\n",
            "24    15     2     4  ...             1            1             0\n",
            "25    16     2     2  ...             1            1             0\n",
            "26    15     2     2  ...             1            1             0\n",
            "27    15     4     2  ...             1            1             0\n",
            "28    16     3     4  ...             1            1             0\n",
            "29    16     4     4  ...             1            0             1\n",
            "..   ...   ...   ...  ...           ...          ...           ...\n",
            "619   18     3     3  ...             1            0             1\n",
            "620   17     4     4  ...             1            0             1\n",
            "621   17     1     2  ...             0            1             0\n",
            "622   18     1     3  ...             0            1             0\n",
            "623   18     4     4  ...             1            0             1\n",
            "624   17     1     1  ...             1            0             1\n",
            "625   18     2     3  ...             1            0             1\n",
            "626   18     4     4  ...             1            0             1\n",
            "627   18     1     2  ...             1            0             1\n",
            "628   17     2     2  ...             0            0             1\n",
            "629   17     1     2  ...             1            1             0\n",
            "630   18     4     4  ...             1            1             0\n",
            "631   18     1     1  ...             1            1             0\n",
            "632   19     1     1  ...             1            0             1\n",
            "633   18     4     4  ...             1            1             0\n",
            "634   18     3     3  ...             1            0             1\n",
            "635   17     3     1  ...             1            1             0\n",
            "636   18     4     4  ...             1            1             0\n",
            "637   18     2     1  ...             1            0             1\n",
            "638   17     2     3  ...             1            1             0\n",
            "639   19     1     1  ...             0            1             0\n",
            "640   18     4     2  ...             0            1             0\n",
            "641   18     2     2  ...             0            1             0\n",
            "642   17     4     3  ...             1            1             0\n",
            "643   18     4     4  ...             1            0             1\n",
            "644   19     2     3  ...             1            1             0\n",
            "645   18     3     1  ...             1            1             0\n",
            "646   18     1     1  ...             0            1             0\n",
            "647   17     3     1  ...             1            1             0\n",
            "648   18     3     2  ...             1            1             0\n",
            "\n",
            "[649 rows x 57 columns]\n"
          ],
          "name": "stdout"
        }
      ]
    },
    {
      "cell_type": "code",
      "metadata": {
        "id": "woYcsILxKELT",
        "colab_type": "code",
        "outputId": "d752ab1e-a5c2-49d6-8096-0acb56fea8a2",
        "colab": {
          "base_uri": "https://localhost:8080/",
          "height": 1000
        }
      },
      "source": [
        "d= data\n",
        "# shuffle rows\n",
        "d = d.sample(frac=1)\n",
        "# split training and testing data\n",
        "d_train = d[:500]  ## 500 items trainning set\n",
        "d_test = d[500:]  # there are 149 itmes testing set \n",
        "\n",
        "print(d_test)"
      ],
      "execution_count": 0,
      "outputs": [
        {
          "output_type": "stream",
          "text": [
            "     age  Medu  Fedu  ...  internet_yes  romantic_no  romantic_yes\n",
            "174   17     2     1  ...             1            0             1\n",
            "288   18     2     1  ...             1            0             1\n",
            "588   17     4     1  ...             0            0             1\n",
            "46    16     3     3  ...             1            1             0\n",
            "151   16     4     4  ...             1            1             0\n",
            "231   18     3     3  ...             1            1             0\n",
            "430   16     1     2  ...             1            1             0\n",
            "54    15     3     3  ...             1            1             0\n",
            "262   17     1     4  ...             1            1             0\n",
            "206   17     1     2  ...             1            1             0\n",
            "489   18     1     1  ...             1            1             0\n",
            "173   16     1     2  ...             1            1             0\n",
            "561   18     1     1  ...             0            1             0\n",
            "72    15     1     1  ...             1            0             1\n",
            "600   17     1     1  ...             0            1             0\n",
            "227   18     2     2  ...             1            1             0\n",
            "388   18     3     3  ...             1            1             0\n",
            "366   17     3     3  ...             1            1             0\n",
            "562   16     2     2  ...             0            0             1\n",
            "550   16     2     2  ...             1            0             1\n",
            "295   19     4     3  ...             1            1             0\n",
            "201   16     2     1  ...             1            0             1\n",
            "222   16     1     1  ...             0            1             0\n",
            "144   16     1     1  ...             0            0             1\n",
            "648   18     3     2  ...             1            1             0\n",
            "161   16     4     4  ...             1            0             1\n",
            "196   17     2     4  ...             0            1             0\n",
            "68    15     2     2  ...             1            1             0\n",
            "293   18     1     1  ...             0            1             0\n",
            "172   16     3     3  ...             1            0             1\n",
            "..   ...   ...   ...  ...           ...          ...           ...\n",
            "296   18     2     1  ...             1            1             0\n",
            "405   19     2     3  ...             1            1             0\n",
            "167   17     4     4  ...             0            0             1\n",
            "579   18     1     3  ...             1            0             1\n",
            "621   17     1     2  ...             0            1             0\n",
            "493   17     0     1  ...             0            1             0\n",
            "257   17     4     4  ...             1            1             0\n",
            "272   17     1     1  ...             1            0             1\n",
            "363   18     3     4  ...             1            0             1\n",
            "96    16     4     3  ...             1            1             0\n",
            "94    15     2     2  ...             1            1             0\n",
            "334   18     2     1  ...             1            1             0\n",
            "427   16     2     3  ...             0            1             0\n",
            "82    15     3     2  ...             1            1             0\n",
            "190   16     2     2  ...             1            1             0\n",
            "113   15     4     2  ...             1            1             0\n",
            "336   18     4     2  ...             1            0             1\n",
            "205   17     1     1  ...             1            1             0\n",
            "530   17     3     3  ...             1            1             0\n",
            "248   16     1     1  ...             1            1             0\n",
            "393   18     3     3  ...             1            1             0\n",
            "202   17     3     3  ...             1            0             1\n",
            "76    15     4     0  ...             1            1             0\n",
            "260   16     1     2  ...             1            1             0\n",
            "156   15     1     1  ...             1            1             0\n",
            "487   18     3     2  ...             0            0             1\n",
            "152   16     2     2  ...             1            1             0\n",
            "61    16     1     1  ...             1            0             1\n",
            "191   17     3     3  ...             1            1             0\n",
            "411   17     4     4  ...             1            1             0\n",
            "\n",
            "[149 rows x 57 columns]\n"
          ],
          "name": "stdout"
        }
      ]
    },
    {
      "cell_type": "code",
      "metadata": {
        "id": "rpG-LxWJKVNM",
        "colab_type": "code",
        "outputId": "2a5db061-7f83-48c5-f1b6-b33852111144",
        "colab": {
          "base_uri": "https://localhost:8080/",
          "height": 1000
        }
      },
      "source": [
        "d_train_att = d_train.drop(['pass'], axis=1)  \n",
        "d_train_pass = d_train['pass']  ## only the pass coloumn is stored in d_train_pass \n",
        "\n",
        "print(d_train_att)\n",
        "print(d_train_pass)"
      ],
      "execution_count": 0,
      "outputs": [
        {
          "output_type": "stream",
          "text": [
            "     age  Medu  Fedu  ...  internet_yes  romantic_no  romantic_yes\n",
            "402   17     4     3  ...             1            0             1\n",
            "446   15     3     3  ...             1            1             0\n",
            "564   16     3     2  ...             1            1             0\n",
            "451   16     1     2  ...             0            1             0\n",
            "182   16     2     2  ...             1            1             0\n",
            "67    16     3     1  ...             1            1             0\n",
            "13    15     4     3  ...             1            1             0\n",
            "635   17     3     1  ...             1            1             0\n",
            "40    16     2     2  ...             1            0             1\n",
            "308   18     4     4  ...             1            1             0\n",
            "362   18     4     4  ...             1            1             0\n",
            "277   17     1     1  ...             0            1             0\n",
            "433   15     4     4  ...             1            0             1\n",
            "525   17     4     4  ...             1            1             0\n",
            "581   18     1     2  ...             0            1             0\n",
            "431   17     3     2  ...             0            0             1\n",
            "154   16     1     1  ...             1            1             0\n",
            "194   16     4     3  ...             1            1             0\n",
            "159   15     1     2  ...             1            1             0\n",
            "86    16     2     2  ...             0            1             0\n",
            "498   16     2     1  ...             1            1             0\n",
            "633   18     4     4  ...             1            1             0\n",
            "292   17     4     2  ...             1            1             0\n",
            "614   17     4     4  ...             1            1             0\n",
            "263   18     2     2  ...             1            1             0\n",
            "318   18     3     2  ...             1            0             1\n",
            "211   16     3     3  ...             1            1             0\n",
            "32    15     4     3  ...             1            0             1\n",
            "572   16     3     2  ...             0            0             1\n",
            "513   16     3     1  ...             1            1             0\n",
            "..   ...   ...   ...  ...           ...          ...           ...\n",
            "568   19     3     2  ...             0            1             0\n",
            "419   19     2     1  ...             1            1             0\n",
            "497   17     3     3  ...             0            1             0\n",
            "102   15     4     4  ...             1            1             0\n",
            "35    15     2     3  ...             0            1             0\n",
            "371   18     2     2  ...             1            0             1\n",
            "352   19     3     3  ...             0            0             1\n",
            "219   17     3     4  ...             1            0             1\n",
            "204   16     2     3  ...             1            1             0\n",
            "304   18     2     2  ...             1            0             1\n",
            "108   15     4     4  ...             1            0             1\n",
            "45    15     4     3  ...             1            0             1\n",
            "536   15     2     2  ...             0            1             0\n",
            "373   17     2     2  ...             1            1             0\n",
            "423   16     1     3  ...             1            0             1\n",
            "137   16     2     2  ...             0            1             0\n",
            "55    16     2     1  ...             1            0             1\n",
            "171   16     2     2  ...             0            1             0\n",
            "626   18     4     4  ...             1            0             1\n",
            "387   18     2     2  ...             1            1             0\n",
            "381   17     4     4  ...             1            0             1\n",
            "323   18     4     3  ...             1            1             0\n",
            "471   16     2     2  ...             0            1             0\n",
            "506   20     3     3  ...             1            0             1\n",
            "28    16     3     4  ...             1            1             0\n",
            "56    15     4     3  ...             1            1             0\n",
            "611   18     2     2  ...             1            0             1\n",
            "91    15     4     3  ...             1            1             0\n",
            "306   18     3     4  ...             1            1             0\n",
            "122   16     2     4  ...             1            0             1\n",
            "\n",
            "[500 rows x 56 columns]\n",
            "402    1\n",
            "446    0\n",
            "564    0\n",
            "451    0\n",
            "182    1\n",
            "67     0\n",
            "13     1\n",
            "635    0\n",
            "40     0\n",
            "308    0\n",
            "362    1\n",
            "277    0\n",
            "433    1\n",
            "525    1\n",
            "581    0\n",
            "431    0\n",
            "154    0\n",
            "194    0\n",
            "159    1\n",
            "86     1\n",
            "498    1\n",
            "633    1\n",
            "292    1\n",
            "614    1\n",
            "263    0\n",
            "318    0\n",
            "211    0\n",
            "32     1\n",
            "572    0\n",
            "513    0\n",
            "      ..\n",
            "568    0\n",
            "419    0\n",
            "497    0\n",
            "102    1\n",
            "35     0\n",
            "371    0\n",
            "352    0\n",
            "219    0\n",
            "204    1\n",
            "304    1\n",
            "108    0\n",
            "45     0\n",
            "536    1\n",
            "373    0\n",
            "423    0\n",
            "137    1\n",
            "55     1\n",
            "171    0\n",
            "626    0\n",
            "387    1\n",
            "381    1\n",
            "323    0\n",
            "471    1\n",
            "506    0\n",
            "28     1\n",
            "56     1\n",
            "611    1\n",
            "91     1\n",
            "306    1\n",
            "122    1\n",
            "Name: pass, Length: 500, dtype: int64\n"
          ],
          "name": "stdout"
        }
      ]
    },
    {
      "cell_type": "code",
      "metadata": {
        "id": "p_6A9cpSKkpT",
        "colab_type": "code",
        "colab": {}
      },
      "source": [
        "d_test_att = d_test.drop(['pass'], axis=1)\n",
        "d_test_pass = d_test['pass']"
      ],
      "execution_count": 0,
      "outputs": []
    },
    {
      "cell_type": "code",
      "metadata": {
        "id": "DeKM1pGoKrHr",
        "colab_type": "code",
        "outputId": "b97dc691-637c-47a2-a744-cd5678e9d3da",
        "colab": {
          "base_uri": "https://localhost:8080/",
          "height": 35
        }
      },
      "source": [
        "d_att = d.drop(['pass'], axis=1)\n",
        "d_pass = d['pass']\n",
        "\n",
        "import numpy as np\n",
        "\n",
        "pass_percentage = (np.sum(d_pass), len(d_pass), 100*float(np.sum(d_pass)) / len(d_pass))\n",
        "print(pass_percentage)  ## determing the number of people have passsed"
      ],
      "execution_count": 0,
      "outputs": [
        {
          "output_type": "stream",
          "text": [
            "(328, 649, 50.53929121725732)\n"
          ],
          "name": "stdout"
        }
      ]
    },
    {
      "cell_type": "code",
      "metadata": {
        "id": "bENWp8XMK8IT",
        "colab_type": "code",
        "colab": {}
      },
      "source": [
        "from sklearn import tree\n",
        "t = tree.DecisionTreeClassifier(criterion=\"entropy\", max_depth=5)  ## There can be a maximum of 5 levels in the decession tree\n",
        "t = t.fit(d_train_att, d_train_pass)  ## trainning the model "
      ],
      "execution_count": 0,
      "outputs": []
    },
    {
      "cell_type": "code",
      "metadata": {
        "id": "yO-4KINzK_JJ",
        "colab_type": "code",
        "outputId": "f42f344a-4890-4150-d94b-aed5433cadcc",
        "colab": {
          "base_uri": "https://localhost:8080/",
          "height": 815
        }
      },
      "source": [
        "## Graphical representation of the tree\n",
        "\n",
        "import graphviz\n",
        "dot_data = tree.export_graphviz(t, out_file=None, label=\"all\", impurity=False, proportion=True,\n",
        "                                feature_names=list(d_train_att), class_names=[\"fail\", \"pass\"], \n",
        "                                filled=True, rounded=True)\n",
        "graph = graphviz.Source(dot_data)\n",
        "graph"
      ],
      "execution_count": 0,
      "outputs": [
        {
          "output_type": "execute_result",
          "data": {
            "text/plain": [
              "<graphviz.files.Source at 0x7f86bd850198>"
            ],
            "image/svg+xml": "<?xml version=\"1.0\" encoding=\"UTF-8\" standalone=\"no\"?>\n<!DOCTYPE svg PUBLIC \"-//W3C//DTD SVG 1.1//EN\"\n \"http://www.w3.org/Graphics/SVG/1.1/DTD/svg11.dtd\">\n<!-- Generated by graphviz version 2.40.1 (20161225.0304)\n -->\n<!-- Title: Tree Pages: 1 -->\n<svg width=\"2017pt\" height=\"581pt\"\n viewBox=\"0.00 0.00 2017.00 581.00\" xmlns=\"http://www.w3.org/2000/svg\" xmlns:xlink=\"http://www.w3.org/1999/xlink\">\n<g id=\"graph0\" class=\"graph\" transform=\"scale(1 1) rotate(0) translate(4 577)\">\n<title>Tree</title>\n<polygon fill=\"#ffffff\" stroke=\"transparent\" points=\"-4,4 -4,-577 2013,-577 2013,4 -4,4\"/>\n<!-- 0 -->\n<g id=\"node1\" class=\"node\">\n<title>0</title>\n<path fill=\"#fefcfa\" stroke=\"#000000\" d=\"M1198.5,-573C1198.5,-573 1066.5,-573 1066.5,-573 1060.5,-573 1054.5,-567 1054.5,-561 1054.5,-561 1054.5,-517 1054.5,-517 1054.5,-511 1060.5,-505 1066.5,-505 1066.5,-505 1198.5,-505 1198.5,-505 1204.5,-505 1210.5,-511 1210.5,-517 1210.5,-517 1210.5,-561 1210.5,-561 1210.5,-567 1204.5,-573 1198.5,-573\"/>\n<text text-anchor=\"middle\" x=\"1132.5\" y=\"-557.8\" font-family=\"Helvetica,sans-Serif\" font-size=\"14.00\" fill=\"#000000\">failures &lt;= 0.5</text>\n<text text-anchor=\"middle\" x=\"1132.5\" y=\"-542.8\" font-family=\"Helvetica,sans-Serif\" font-size=\"14.00\" fill=\"#000000\">samples = 100.0%</text>\n<text text-anchor=\"middle\" x=\"1132.5\" y=\"-527.8\" font-family=\"Helvetica,sans-Serif\" font-size=\"14.00\" fill=\"#000000\">value = [0.506, 0.494]</text>\n<text text-anchor=\"middle\" x=\"1132.5\" y=\"-512.8\" font-family=\"Helvetica,sans-Serif\" font-size=\"14.00\" fill=\"#000000\">class = fail</text>\n</g>\n<!-- 1 -->\n<g id=\"node2\" class=\"node\">\n<title>1</title>\n<path fill=\"#cbe5f8\" stroke=\"#000000\" d=\"M862.5,-469C862.5,-469 730.5,-469 730.5,-469 724.5,-469 718.5,-463 718.5,-457 718.5,-457 718.5,-413 718.5,-413 718.5,-407 724.5,-401 730.5,-401 730.5,-401 862.5,-401 862.5,-401 868.5,-401 874.5,-407 874.5,-413 874.5,-413 874.5,-457 874.5,-457 874.5,-463 868.5,-469 862.5,-469\"/>\n<text text-anchor=\"middle\" x=\"796.5\" y=\"-453.8\" font-family=\"Helvetica,sans-Serif\" font-size=\"14.00\" fill=\"#000000\">higher_yes &lt;= 0.5</text>\n<text text-anchor=\"middle\" x=\"796.5\" y=\"-438.8\" font-family=\"Helvetica,sans-Serif\" font-size=\"14.00\" fill=\"#000000\">samples = 84.2%</text>\n<text text-anchor=\"middle\" x=\"796.5\" y=\"-423.8\" font-family=\"Helvetica,sans-Serif\" font-size=\"14.00\" fill=\"#000000\">value = [0.425, 0.575]</text>\n<text text-anchor=\"middle\" x=\"796.5\" y=\"-408.8\" font-family=\"Helvetica,sans-Serif\" font-size=\"14.00\" fill=\"#000000\">class = pass</text>\n</g>\n<!-- 0&#45;&gt;1 -->\n<g id=\"edge1\" class=\"edge\">\n<title>0&#45;&gt;1</title>\n<path fill=\"none\" stroke=\"#000000\" d=\"M1054.147,-514.7479C1003.3056,-499.0113 936.9733,-478.4798 884.3466,-462.1906\"/>\n<polygon fill=\"#000000\" stroke=\"#000000\" points=\"885.2741,-458.8139 874.6863,-459.2005 883.2043,-465.5009 885.2741,-458.8139\"/>\n<text text-anchor=\"middle\" x=\"886.3466\" y=\"-477.6148\" font-family=\"Helvetica,sans-Serif\" font-size=\"14.00\" fill=\"#000000\">True</text>\n</g>\n<!-- 22 -->\n<g id=\"node23\" class=\"node\">\n<title>22</title>\n<path fill=\"#e78a46\" stroke=\"#000000\" d=\"M1498.5,-469C1498.5,-469 1366.5,-469 1366.5,-469 1360.5,-469 1354.5,-463 1354.5,-457 1354.5,-457 1354.5,-413 1354.5,-413 1354.5,-407 1360.5,-401 1366.5,-401 1366.5,-401 1498.5,-401 1498.5,-401 1504.5,-401 1510.5,-407 1510.5,-413 1510.5,-413 1510.5,-457 1510.5,-457 1510.5,-463 1504.5,-469 1498.5,-469\"/>\n<text text-anchor=\"middle\" x=\"1432.5\" y=\"-453.8\" font-family=\"Helvetica,sans-Serif\" font-size=\"14.00\" fill=\"#000000\">reason_home &lt;= 0.5</text>\n<text text-anchor=\"middle\" x=\"1432.5\" y=\"-438.8\" font-family=\"Helvetica,sans-Serif\" font-size=\"14.00\" fill=\"#000000\">samples = 15.8%</text>\n<text text-anchor=\"middle\" x=\"1432.5\" y=\"-423.8\" font-family=\"Helvetica,sans-Serif\" font-size=\"14.00\" fill=\"#000000\">value = [0.937, 0.063]</text>\n<text text-anchor=\"middle\" x=\"1432.5\" y=\"-408.8\" font-family=\"Helvetica,sans-Serif\" font-size=\"14.00\" fill=\"#000000\">class = fail</text>\n</g>\n<!-- 0&#45;&gt;22 -->\n<g id=\"edge22\" class=\"edge\">\n<title>0&#45;&gt;22</title>\n<path fill=\"none\" stroke=\"#000000\" d=\"M1210.5383,-511.9467C1251.6962,-497.6786 1302.3271,-480.1266 1344.8343,-465.3908\"/>\n<polygon fill=\"#000000\" stroke=\"#000000\" points=\"1346.0299,-468.6807 1354.3318,-462.0983 1343.737,-462.0669 1346.0299,-468.6807\"/>\n<text text-anchor=\"middle\" x=\"1343.4195\" y=\"-480.891\" font-family=\"Helvetica,sans-Serif\" font-size=\"14.00\" fill=\"#000000\">False</text>\n</g>\n<!-- 2 -->\n<g id=\"node3\" class=\"node\">\n<title>2</title>\n<path fill=\"#e68640\" stroke=\"#000000\" d=\"M285.5,-365C285.5,-365 153.5,-365 153.5,-365 147.5,-365 141.5,-359 141.5,-353 141.5,-353 141.5,-309 141.5,-309 141.5,-303 147.5,-297 153.5,-297 153.5,-297 285.5,-297 285.5,-297 291.5,-297 297.5,-303 297.5,-309 297.5,-309 297.5,-353 297.5,-353 297.5,-359 291.5,-365 285.5,-365\"/>\n<text text-anchor=\"middle\" x=\"219.5\" y=\"-349.8\" font-family=\"Helvetica,sans-Serif\" font-size=\"14.00\" fill=\"#000000\">Fedu &lt;= 2.5</text>\n<text text-anchor=\"middle\" x=\"219.5\" y=\"-334.8\" font-family=\"Helvetica,sans-Serif\" font-size=\"14.00\" fill=\"#000000\">samples = 5.8%</text>\n<text text-anchor=\"middle\" x=\"219.5\" y=\"-319.8\" font-family=\"Helvetica,sans-Serif\" font-size=\"14.00\" fill=\"#000000\">value = [0.966, 0.034]</text>\n<text text-anchor=\"middle\" x=\"219.5\" y=\"-304.8\" font-family=\"Helvetica,sans-Serif\" font-size=\"14.00\" fill=\"#000000\">class = fail</text>\n</g>\n<!-- 1&#45;&gt;2 -->\n<g id=\"edge2\" class=\"edge\">\n<title>1&#45;&gt;2</title>\n<path fill=\"none\" stroke=\"#000000\" d=\"M718.3832,-420.92C611.3945,-401.6361 419.8142,-367.1052 307.7602,-346.9082\"/>\n<polygon fill=\"#000000\" stroke=\"#000000\" points=\"308.2985,-343.449 297.8363,-345.1195 307.0568,-350.338 308.2985,-343.449\"/>\n</g>\n<!-- 7 -->\n<g id=\"node8\" class=\"node\">\n<title>7</title>\n<path fill=\"#b5daf5\" stroke=\"#000000\" d=\"M862.5,-365C862.5,-365 730.5,-365 730.5,-365 724.5,-365 718.5,-359 718.5,-353 718.5,-353 718.5,-309 718.5,-309 718.5,-303 724.5,-297 730.5,-297 730.5,-297 862.5,-297 862.5,-297 868.5,-297 874.5,-303 874.5,-309 874.5,-309 874.5,-353 874.5,-353 874.5,-359 868.5,-365 862.5,-365\"/>\n<text text-anchor=\"middle\" x=\"796.5\" y=\"-349.8\" font-family=\"Helvetica,sans-Serif\" font-size=\"14.00\" fill=\"#000000\">Walc &lt;= 3.5</text>\n<text text-anchor=\"middle\" x=\"796.5\" y=\"-334.8\" font-family=\"Helvetica,sans-Serif\" font-size=\"14.00\" fill=\"#000000\">samples = 78.4%</text>\n<text text-anchor=\"middle\" x=\"796.5\" y=\"-319.8\" font-family=\"Helvetica,sans-Serif\" font-size=\"14.00\" fill=\"#000000\">value = [0.385, 0.615]</text>\n<text text-anchor=\"middle\" x=\"796.5\" y=\"-304.8\" font-family=\"Helvetica,sans-Serif\" font-size=\"14.00\" fill=\"#000000\">class = pass</text>\n</g>\n<!-- 1&#45;&gt;7 -->\n<g id=\"edge7\" class=\"edge\">\n<title>1&#45;&gt;7</title>\n<path fill=\"none\" stroke=\"#000000\" d=\"M796.5,-400.9465C796.5,-392.776 796.5,-383.9318 796.5,-375.3697\"/>\n<polygon fill=\"#000000\" stroke=\"#000000\" points=\"800.0001,-375.13 796.5,-365.13 793.0001,-375.13 800.0001,-375.13\"/>\n</g>\n<!-- 3 -->\n<g id=\"node4\" class=\"node\">\n<title>3</title>\n<path fill=\"#e58139\" stroke=\"#000000\" d=\"M111,-253.5C111,-253.5 12,-253.5 12,-253.5 6,-253.5 0,-247.5 0,-241.5 0,-241.5 0,-212.5 0,-212.5 0,-206.5 6,-200.5 12,-200.5 12,-200.5 111,-200.5 111,-200.5 117,-200.5 123,-206.5 123,-212.5 123,-212.5 123,-241.5 123,-241.5 123,-247.5 117,-253.5 111,-253.5\"/>\n<text text-anchor=\"middle\" x=\"61.5\" y=\"-238.3\" font-family=\"Helvetica,sans-Serif\" font-size=\"14.00\" fill=\"#000000\">samples = 5.2%</text>\n<text text-anchor=\"middle\" x=\"61.5\" y=\"-223.3\" font-family=\"Helvetica,sans-Serif\" font-size=\"14.00\" fill=\"#000000\">value = [1.0, 0.0]</text>\n<text text-anchor=\"middle\" x=\"61.5\" y=\"-208.3\" font-family=\"Helvetica,sans-Serif\" font-size=\"14.00\" fill=\"#000000\">class = fail</text>\n</g>\n<!-- 2&#45;&gt;3 -->\n<g id=\"edge3\" class=\"edge\">\n<title>2&#45;&gt;3</title>\n<path fill=\"none\" stroke=\"#000000\" d=\"M167.7649,-296.9465C149.3573,-284.8301 128.6987,-271.232 110.5249,-259.2696\"/>\n<polygon fill=\"#000000\" stroke=\"#000000\" points=\"112.1009,-256.1168 101.8237,-253.5422 108.2522,-261.9638 112.1009,-256.1168\"/>\n</g>\n<!-- 4 -->\n<g id=\"node5\" class=\"node\">\n<title>4</title>\n<path fill=\"#f2c09c\" stroke=\"#000000\" d=\"M285.5,-261C285.5,-261 153.5,-261 153.5,-261 147.5,-261 141.5,-255 141.5,-249 141.5,-249 141.5,-205 141.5,-205 141.5,-199 147.5,-193 153.5,-193 153.5,-193 285.5,-193 285.5,-193 291.5,-193 297.5,-199 297.5,-205 297.5,-205 297.5,-249 297.5,-249 297.5,-255 291.5,-261 285.5,-261\"/>\n<text text-anchor=\"middle\" x=\"219.5\" y=\"-245.8\" font-family=\"Helvetica,sans-Serif\" font-size=\"14.00\" fill=\"#000000\">health &lt;= 4.5</text>\n<text text-anchor=\"middle\" x=\"219.5\" y=\"-230.8\" font-family=\"Helvetica,sans-Serif\" font-size=\"14.00\" fill=\"#000000\">samples = 0.6%</text>\n<text text-anchor=\"middle\" x=\"219.5\" y=\"-215.8\" font-family=\"Helvetica,sans-Serif\" font-size=\"14.00\" fill=\"#000000\">value = [0.667, 0.333]</text>\n<text text-anchor=\"middle\" x=\"219.5\" y=\"-200.8\" font-family=\"Helvetica,sans-Serif\" font-size=\"14.00\" fill=\"#000000\">class = fail</text>\n</g>\n<!-- 2&#45;&gt;4 -->\n<g id=\"edge4\" class=\"edge\">\n<title>2&#45;&gt;4</title>\n<path fill=\"none\" stroke=\"#000000\" d=\"M219.5,-296.9465C219.5,-288.776 219.5,-279.9318 219.5,-271.3697\"/>\n<polygon fill=\"#000000\" stroke=\"#000000\" points=\"223.0001,-271.13 219.5,-261.13 216.0001,-271.13 223.0001,-271.13\"/>\n</g>\n<!-- 5 -->\n<g id=\"node6\" class=\"node\">\n<title>5</title>\n<path fill=\"#399de5\" stroke=\"#000000\" d=\"M128,-149.5C128,-149.5 29,-149.5 29,-149.5 23,-149.5 17,-143.5 17,-137.5 17,-137.5 17,-108.5 17,-108.5 17,-102.5 23,-96.5 29,-96.5 29,-96.5 128,-96.5 128,-96.5 134,-96.5 140,-102.5 140,-108.5 140,-108.5 140,-137.5 140,-137.5 140,-143.5 134,-149.5 128,-149.5\"/>\n<text text-anchor=\"middle\" x=\"78.5\" y=\"-134.3\" font-family=\"Helvetica,sans-Serif\" font-size=\"14.00\" fill=\"#000000\">samples = 0.2%</text>\n<text text-anchor=\"middle\" x=\"78.5\" y=\"-119.3\" font-family=\"Helvetica,sans-Serif\" font-size=\"14.00\" fill=\"#000000\">value = [0.0, 1.0]</text>\n<text text-anchor=\"middle\" x=\"78.5\" y=\"-104.3\" font-family=\"Helvetica,sans-Serif\" font-size=\"14.00\" fill=\"#000000\">class = pass</text>\n</g>\n<!-- 4&#45;&gt;5 -->\n<g id=\"edge5\" class=\"edge\">\n<title>4&#45;&gt;5</title>\n<path fill=\"none\" stroke=\"#000000\" d=\"M173.3313,-192.9465C157.0536,-180.9403 138.8035,-167.4791 122.693,-155.5962\"/>\n<polygon fill=\"#000000\" stroke=\"#000000\" points=\"124.6103,-152.6614 114.485,-149.5422 120.4552,-158.2948 124.6103,-152.6614\"/>\n</g>\n<!-- 6 -->\n<g id=\"node7\" class=\"node\">\n<title>6</title>\n<path fill=\"#e58139\" stroke=\"#000000\" d=\"M269,-149.5C269,-149.5 170,-149.5 170,-149.5 164,-149.5 158,-143.5 158,-137.5 158,-137.5 158,-108.5 158,-108.5 158,-102.5 164,-96.5 170,-96.5 170,-96.5 269,-96.5 269,-96.5 275,-96.5 281,-102.5 281,-108.5 281,-108.5 281,-137.5 281,-137.5 281,-143.5 275,-149.5 269,-149.5\"/>\n<text text-anchor=\"middle\" x=\"219.5\" y=\"-134.3\" font-family=\"Helvetica,sans-Serif\" font-size=\"14.00\" fill=\"#000000\">samples = 0.4%</text>\n<text text-anchor=\"middle\" x=\"219.5\" y=\"-119.3\" font-family=\"Helvetica,sans-Serif\" font-size=\"14.00\" fill=\"#000000\">value = [1.0, 0.0]</text>\n<text text-anchor=\"middle\" x=\"219.5\" y=\"-104.3\" font-family=\"Helvetica,sans-Serif\" font-size=\"14.00\" fill=\"#000000\">class = fail</text>\n</g>\n<!-- 4&#45;&gt;6 -->\n<g id=\"edge6\" class=\"edge\">\n<title>4&#45;&gt;6</title>\n<path fill=\"none\" stroke=\"#000000\" d=\"M219.5,-192.9465C219.5,-182.2621 219.5,-170.4254 219.5,-159.5742\"/>\n<polygon fill=\"#000000\" stroke=\"#000000\" points=\"223.0001,-159.5421 219.5,-149.5422 216.0001,-159.5422 223.0001,-159.5421\"/>\n</g>\n<!-- 8 -->\n<g id=\"node9\" class=\"node\">\n<title>8</title>\n<path fill=\"#9bcef2\" stroke=\"#000000\" d=\"M704.5,-261C704.5,-261 572.5,-261 572.5,-261 566.5,-261 560.5,-255 560.5,-249 560.5,-249 560.5,-205 560.5,-205 560.5,-199 566.5,-193 572.5,-193 572.5,-193 704.5,-193 704.5,-193 710.5,-193 716.5,-199 716.5,-205 716.5,-205 716.5,-249 716.5,-249 716.5,-255 710.5,-261 704.5,-261\"/>\n<text text-anchor=\"middle\" x=\"638.5\" y=\"-245.8\" font-family=\"Helvetica,sans-Serif\" font-size=\"14.00\" fill=\"#000000\">school_GP &lt;= 0.5</text>\n<text text-anchor=\"middle\" x=\"638.5\" y=\"-230.8\" font-family=\"Helvetica,sans-Serif\" font-size=\"14.00\" fill=\"#000000\">samples = 64.6%</text>\n<text text-anchor=\"middle\" x=\"638.5\" y=\"-215.8\" font-family=\"Helvetica,sans-Serif\" font-size=\"14.00\" fill=\"#000000\">value = [0.331, 0.669]</text>\n<text text-anchor=\"middle\" x=\"638.5\" y=\"-200.8\" font-family=\"Helvetica,sans-Serif\" font-size=\"14.00\" fill=\"#000000\">class = pass</text>\n</g>\n<!-- 7&#45;&gt;8 -->\n<g id=\"edge8\" class=\"edge\">\n<title>7&#45;&gt;8</title>\n<path fill=\"none\" stroke=\"#000000\" d=\"M744.7649,-296.9465C730.1696,-287.3395 714.1591,-276.8009 699.0942,-266.8848\"/>\n<polygon fill=\"#000000\" stroke=\"#000000\" points=\"700.6286,-263.7046 690.3513,-261.13 696.7799,-269.5517 700.6286,-263.7046\"/>\n</g>\n<!-- 15 -->\n<g id=\"node16\" class=\"node\">\n<title>15</title>\n<path fill=\"#f4c9aa\" stroke=\"#000000\" d=\"M984.5,-261C984.5,-261 852.5,-261 852.5,-261 846.5,-261 840.5,-255 840.5,-249 840.5,-249 840.5,-205 840.5,-205 840.5,-199 846.5,-193 852.5,-193 852.5,-193 984.5,-193 984.5,-193 990.5,-193 996.5,-199 996.5,-205 996.5,-205 996.5,-249 996.5,-249 996.5,-255 990.5,-261 984.5,-261\"/>\n<text text-anchor=\"middle\" x=\"918.5\" y=\"-245.8\" font-family=\"Helvetica,sans-Serif\" font-size=\"14.00\" fill=\"#000000\">Fedu &lt;= 3.5</text>\n<text text-anchor=\"middle\" x=\"918.5\" y=\"-230.8\" font-family=\"Helvetica,sans-Serif\" font-size=\"14.00\" fill=\"#000000\">samples = 13.8%</text>\n<text text-anchor=\"middle\" x=\"918.5\" y=\"-215.8\" font-family=\"Helvetica,sans-Serif\" font-size=\"14.00\" fill=\"#000000\">value = [0.638, 0.362]</text>\n<text text-anchor=\"middle\" x=\"918.5\" y=\"-200.8\" font-family=\"Helvetica,sans-Serif\" font-size=\"14.00\" fill=\"#000000\">class = fail</text>\n</g>\n<!-- 7&#45;&gt;15 -->\n<g id=\"edge15\" class=\"edge\">\n<title>7&#45;&gt;15</title>\n<path fill=\"none\" stroke=\"#000000\" d=\"M836.4474,-296.9465C847.4012,-287.6088 859.3873,-277.3911 870.732,-267.7203\"/>\n<polygon fill=\"#000000\" stroke=\"#000000\" points=\"873.1233,-270.2809 878.4629,-261.13 868.5821,-264.9538 873.1233,-270.2809\"/>\n</g>\n<!-- 9 -->\n<g id=\"node10\" class=\"node\">\n<title>9</title>\n<path fill=\"#fefcfb\" stroke=\"#000000\" d=\"M443.5,-157C443.5,-157 311.5,-157 311.5,-157 305.5,-157 299.5,-151 299.5,-145 299.5,-145 299.5,-101 299.5,-101 299.5,-95 305.5,-89 311.5,-89 311.5,-89 443.5,-89 443.5,-89 449.5,-89 455.5,-95 455.5,-101 455.5,-101 455.5,-145 455.5,-145 455.5,-151 449.5,-157 443.5,-157\"/>\n<text text-anchor=\"middle\" x=\"377.5\" y=\"-141.8\" font-family=\"Helvetica,sans-Serif\" font-size=\"14.00\" fill=\"#000000\">studytime &lt;= 2.5</text>\n<text text-anchor=\"middle\" x=\"377.5\" y=\"-126.8\" font-family=\"Helvetica,sans-Serif\" font-size=\"14.00\" fill=\"#000000\">samples = 19.4%</text>\n<text text-anchor=\"middle\" x=\"377.5\" y=\"-111.8\" font-family=\"Helvetica,sans-Serif\" font-size=\"14.00\" fill=\"#000000\">value = [0.505, 0.495]</text>\n<text text-anchor=\"middle\" x=\"377.5\" y=\"-96.8\" font-family=\"Helvetica,sans-Serif\" font-size=\"14.00\" fill=\"#000000\">class = fail</text>\n</g>\n<!-- 8&#45;&gt;9 -->\n<g id=\"edge9\" class=\"edge\">\n<title>8&#45;&gt;9</title>\n<path fill=\"none\" stroke=\"#000000\" d=\"M560.1914,-195.7966C530.2543,-183.8676 495.9299,-170.1905 465.1747,-157.9355\"/>\n<polygon fill=\"#000000\" stroke=\"#000000\" points=\"466.3386,-154.6317 455.7533,-154.1814 463.7474,-161.1345 466.3386,-154.6317\"/>\n</g>\n<!-- 12 -->\n<g id=\"node13\" class=\"node\">\n<title>12</title>\n<path fill=\"#7dbfee\" stroke=\"#000000\" d=\"M704.5,-157C704.5,-157 572.5,-157 572.5,-157 566.5,-157 560.5,-151 560.5,-145 560.5,-145 560.5,-101 560.5,-101 560.5,-95 566.5,-89 572.5,-89 572.5,-89 704.5,-89 704.5,-89 710.5,-89 716.5,-95 716.5,-101 716.5,-101 716.5,-145 716.5,-145 716.5,-151 710.5,-157 704.5,-157\"/>\n<text text-anchor=\"middle\" x=\"638.5\" y=\"-141.8\" font-family=\"Helvetica,sans-Serif\" font-size=\"14.00\" fill=\"#000000\">Medu &lt;= 3.5</text>\n<text text-anchor=\"middle\" x=\"638.5\" y=\"-126.8\" font-family=\"Helvetica,sans-Serif\" font-size=\"14.00\" fill=\"#000000\">samples = 45.2%</text>\n<text text-anchor=\"middle\" x=\"638.5\" y=\"-111.8\" font-family=\"Helvetica,sans-Serif\" font-size=\"14.00\" fill=\"#000000\">value = [0.257, 0.743]</text>\n<text text-anchor=\"middle\" x=\"638.5\" y=\"-96.8\" font-family=\"Helvetica,sans-Serif\" font-size=\"14.00\" fill=\"#000000\">class = pass</text>\n</g>\n<!-- 8&#45;&gt;12 -->\n<g id=\"edge12\" class=\"edge\">\n<title>8&#45;&gt;12</title>\n<path fill=\"none\" stroke=\"#000000\" d=\"M638.5,-192.9465C638.5,-184.776 638.5,-175.9318 638.5,-167.3697\"/>\n<polygon fill=\"#000000\" stroke=\"#000000\" points=\"642.0001,-167.13 638.5,-157.13 635.0001,-167.13 642.0001,-167.13\"/>\n</g>\n<!-- 10 -->\n<g id=\"node11\" class=\"node\">\n<title>10</title>\n<path fill=\"#f9e3d3\" stroke=\"#000000\" d=\"M225.5,-53C225.5,-53 93.5,-53 93.5,-53 87.5,-53 81.5,-47 81.5,-41 81.5,-41 81.5,-12 81.5,-12 81.5,-6 87.5,0 93.5,0 93.5,0 225.5,0 225.5,0 231.5,0 237.5,-6 237.5,-12 237.5,-12 237.5,-41 237.5,-41 237.5,-47 231.5,-53 225.5,-53\"/>\n<text text-anchor=\"middle\" x=\"159.5\" y=\"-37.8\" font-family=\"Helvetica,sans-Serif\" font-size=\"14.00\" fill=\"#000000\">samples = 16.0%</text>\n<text text-anchor=\"middle\" x=\"159.5\" y=\"-22.8\" font-family=\"Helvetica,sans-Serif\" font-size=\"14.00\" fill=\"#000000\">value = [0.562, 0.438]</text>\n<text text-anchor=\"middle\" x=\"159.5\" y=\"-7.8\" font-family=\"Helvetica,sans-Serif\" font-size=\"14.00\" fill=\"#000000\">class = fail</text>\n</g>\n<!-- 9&#45;&gt;10 -->\n<g id=\"edge10\" class=\"edge\">\n<title>9&#45;&gt;10</title>\n<path fill=\"none\" stroke=\"#000000\" d=\"M300.6414,-88.9777C277.2616,-78.6284 251.7152,-67.32 228.8606,-57.2032\"/>\n<polygon fill=\"#000000\" stroke=\"#000000\" points=\"230.1409,-53.9424 219.58,-53.095 227.3074,-60.3433 230.1409,-53.9424\"/>\n</g>\n<!-- 11 -->\n<g id=\"node12\" class=\"node\">\n<title>11</title>\n<path fill=\"#76bbed\" stroke=\"#000000\" d=\"M399.5,-53C399.5,-53 267.5,-53 267.5,-53 261.5,-53 255.5,-47 255.5,-41 255.5,-41 255.5,-12 255.5,-12 255.5,-6 261.5,0 267.5,0 267.5,0 399.5,0 399.5,0 405.5,0 411.5,-6 411.5,-12 411.5,-12 411.5,-41 411.5,-41 411.5,-47 405.5,-53 399.5,-53\"/>\n<text text-anchor=\"middle\" x=\"333.5\" y=\"-37.8\" font-family=\"Helvetica,sans-Serif\" font-size=\"14.00\" fill=\"#000000\">samples = 3.4%</text>\n<text text-anchor=\"middle\" x=\"333.5\" y=\"-22.8\" font-family=\"Helvetica,sans-Serif\" font-size=\"14.00\" fill=\"#000000\">value = [0.235, 0.765]</text>\n<text text-anchor=\"middle\" x=\"333.5\" y=\"-7.8\" font-family=\"Helvetica,sans-Serif\" font-size=\"14.00\" fill=\"#000000\">class = pass</text>\n</g>\n<!-- 9&#45;&gt;11 -->\n<g id=\"edge11\" class=\"edge\">\n<title>9&#45;&gt;11</title>\n<path fill=\"none\" stroke=\"#000000\" d=\"M361.9872,-88.9777C358.0626,-80.3702 353.8354,-71.0992 349.8698,-62.402\"/>\n<polygon fill=\"#000000\" stroke=\"#000000\" points=\"353.0295,-60.8952 345.6962,-53.2485 346.6603,-63.7994 353.0295,-60.8952\"/>\n</g>\n<!-- 13 -->\n<g id=\"node14\" class=\"node\">\n<title>13</title>\n<path fill=\"#98ccf1\" stroke=\"#000000\" d=\"M573.5,-53C573.5,-53 441.5,-53 441.5,-53 435.5,-53 429.5,-47 429.5,-41 429.5,-41 429.5,-12 429.5,-12 429.5,-6 435.5,0 441.5,0 441.5,0 573.5,0 573.5,0 579.5,0 585.5,-6 585.5,-12 585.5,-12 585.5,-41 585.5,-41 585.5,-47 579.5,-53 573.5,-53\"/>\n<text text-anchor=\"middle\" x=\"507.5\" y=\"-37.8\" font-family=\"Helvetica,sans-Serif\" font-size=\"14.00\" fill=\"#000000\">samples = 28.4%</text>\n<text text-anchor=\"middle\" x=\"507.5\" y=\"-22.8\" font-family=\"Helvetica,sans-Serif\" font-size=\"14.00\" fill=\"#000000\">value = [0.324, 0.676]</text>\n<text text-anchor=\"middle\" x=\"507.5\" y=\"-7.8\" font-family=\"Helvetica,sans-Serif\" font-size=\"14.00\" fill=\"#000000\">class = pass</text>\n</g>\n<!-- 12&#45;&gt;13 -->\n<g id=\"edge13\" class=\"edge\">\n<title>12&#45;&gt;13</title>\n<path fill=\"none\" stroke=\"#000000\" d=\"M592.3143,-88.9777C579.2621,-79.3629 565.0861,-68.9203 552.1273,-59.3743\"/>\n<polygon fill=\"#000000\" stroke=\"#000000\" points=\"553.9386,-56.3615 543.8114,-53.2485 549.7869,-61.9974 553.9386,-56.3615\"/>\n</g>\n<!-- 14 -->\n<g id=\"node15\" class=\"node\">\n<title>14</title>\n<path fill=\"#5aade9\" stroke=\"#000000\" d=\"M747.5,-53C747.5,-53 615.5,-53 615.5,-53 609.5,-53 603.5,-47 603.5,-41 603.5,-41 603.5,-12 603.5,-12 603.5,-6 609.5,0 615.5,0 615.5,0 747.5,0 747.5,0 753.5,0 759.5,-6 759.5,-12 759.5,-12 759.5,-41 759.5,-41 759.5,-47 753.5,-53 747.5,-53\"/>\n<text text-anchor=\"middle\" x=\"681.5\" y=\"-37.8\" font-family=\"Helvetica,sans-Serif\" font-size=\"14.00\" fill=\"#000000\">samples = 16.8%</text>\n<text text-anchor=\"middle\" x=\"681.5\" y=\"-22.8\" font-family=\"Helvetica,sans-Serif\" font-size=\"14.00\" fill=\"#000000\">value = [0.143, 0.857]</text>\n<text text-anchor=\"middle\" x=\"681.5\" y=\"-7.8\" font-family=\"Helvetica,sans-Serif\" font-size=\"14.00\" fill=\"#000000\">class = pass</text>\n</g>\n<!-- 12&#45;&gt;14 -->\n<g id=\"edge14\" class=\"edge\">\n<title>12&#45;&gt;14</title>\n<path fill=\"none\" stroke=\"#000000\" d=\"M653.6602,-88.9777C657.4957,-80.3702 661.6268,-71.0992 665.5022,-62.402\"/>\n<polygon fill=\"#000000\" stroke=\"#000000\" points=\"668.7077,-63.8073 669.581,-53.2485 662.3138,-60.9581 668.7077,-63.8073\"/>\n</g>\n<!-- 16 -->\n<g id=\"node17\" class=\"node\">\n<title>16</title>\n<path fill=\"#eeab7b\" stroke=\"#000000\" d=\"M976.5,-157C976.5,-157 860.5,-157 860.5,-157 854.5,-157 848.5,-151 848.5,-145 848.5,-145 848.5,-101 848.5,-101 848.5,-95 854.5,-89 860.5,-89 860.5,-89 976.5,-89 976.5,-89 982.5,-89 988.5,-95 988.5,-101 988.5,-101 988.5,-145 988.5,-145 988.5,-151 982.5,-157 976.5,-157\"/>\n<text text-anchor=\"middle\" x=\"918.5\" y=\"-141.8\" font-family=\"Helvetica,sans-Serif\" font-size=\"14.00\" fill=\"#000000\">Dalc &lt;= 1.5</text>\n<text text-anchor=\"middle\" x=\"918.5\" y=\"-126.8\" font-family=\"Helvetica,sans-Serif\" font-size=\"14.00\" fill=\"#000000\">samples = 9.6%</text>\n<text text-anchor=\"middle\" x=\"918.5\" y=\"-111.8\" font-family=\"Helvetica,sans-Serif\" font-size=\"14.00\" fill=\"#000000\">value = [0.75, 0.25]</text>\n<text text-anchor=\"middle\" x=\"918.5\" y=\"-96.8\" font-family=\"Helvetica,sans-Serif\" font-size=\"14.00\" fill=\"#000000\">class = fail</text>\n</g>\n<!-- 15&#45;&gt;16 -->\n<g id=\"edge16\" class=\"edge\">\n<title>15&#45;&gt;16</title>\n<path fill=\"none\" stroke=\"#000000\" d=\"M918.5,-192.9465C918.5,-184.776 918.5,-175.9318 918.5,-167.3697\"/>\n<polygon fill=\"#000000\" stroke=\"#000000\" points=\"922.0001,-167.13 918.5,-157.13 915.0001,-167.13 922.0001,-167.13\"/>\n</g>\n<!-- 19 -->\n<g id=\"node20\" class=\"node\">\n<title>19</title>\n<path fill=\"#b3d9f5\" stroke=\"#000000\" d=\"M1237.5,-157C1237.5,-157 1105.5,-157 1105.5,-157 1099.5,-157 1093.5,-151 1093.5,-145 1093.5,-145 1093.5,-101 1093.5,-101 1093.5,-95 1099.5,-89 1105.5,-89 1105.5,-89 1237.5,-89 1237.5,-89 1243.5,-89 1249.5,-95 1249.5,-101 1249.5,-101 1249.5,-145 1249.5,-145 1249.5,-151 1243.5,-157 1237.5,-157\"/>\n<text text-anchor=\"middle\" x=\"1171.5\" y=\"-141.8\" font-family=\"Helvetica,sans-Serif\" font-size=\"14.00\" fill=\"#000000\">activities_yes &lt;= 0.5</text>\n<text text-anchor=\"middle\" x=\"1171.5\" y=\"-126.8\" font-family=\"Helvetica,sans-Serif\" font-size=\"14.00\" fill=\"#000000\">samples = 4.2%</text>\n<text text-anchor=\"middle\" x=\"1171.5\" y=\"-111.8\" font-family=\"Helvetica,sans-Serif\" font-size=\"14.00\" fill=\"#000000\">value = [0.381, 0.619]</text>\n<text text-anchor=\"middle\" x=\"1171.5\" y=\"-96.8\" font-family=\"Helvetica,sans-Serif\" font-size=\"14.00\" fill=\"#000000\">class = pass</text>\n</g>\n<!-- 15&#45;&gt;19 -->\n<g id=\"edge19\" class=\"edge\">\n<title>15&#45;&gt;19</title>\n<path fill=\"none\" stroke=\"#000000\" d=\"M996.8182,-194.806C1024.3294,-183.497 1055.4151,-170.7187 1083.657,-159.1094\"/>\n<polygon fill=\"#000000\" stroke=\"#000000\" points=\"1085.198,-162.2602 1093.1164,-155.2209 1082.5366,-155.7858 1085.198,-162.2602\"/>\n</g>\n<!-- 17 -->\n<g id=\"node18\" class=\"node\">\n<title>17</title>\n<path fill=\"#bddef6\" stroke=\"#000000\" d=\"M889,-53C889,-53 790,-53 790,-53 784,-53 778,-47 778,-41 778,-41 778,-12 778,-12 778,-6 784,0 790,0 790,0 889,0 889,0 895,0 901,-6 901,-12 901,-12 901,-41 901,-41 901,-47 895,-53 889,-53\"/>\n<text text-anchor=\"middle\" x=\"839.5\" y=\"-37.8\" font-family=\"Helvetica,sans-Serif\" font-size=\"14.00\" fill=\"#000000\">samples = 2.0%</text>\n<text text-anchor=\"middle\" x=\"839.5\" y=\"-22.8\" font-family=\"Helvetica,sans-Serif\" font-size=\"14.00\" fill=\"#000000\">value = [0.4, 0.6]</text>\n<text text-anchor=\"middle\" x=\"839.5\" y=\"-7.8\" font-family=\"Helvetica,sans-Serif\" font-size=\"14.00\" fill=\"#000000\">class = pass</text>\n</g>\n<!-- 16&#45;&gt;17 -->\n<g id=\"edge17\" class=\"edge\">\n<title>16&#45;&gt;17</title>\n<path fill=\"none\" stroke=\"#000000\" d=\"M890.6476,-88.9777C883.2261,-79.9123 875.2023,-70.111 867.7593,-61.0192\"/>\n<polygon fill=\"#000000\" stroke=\"#000000\" points=\"870.4405,-58.7692 861.3977,-53.2485 865.0241,-63.2034 870.4405,-58.7692\"/>\n</g>\n<!-- 18 -->\n<g id=\"node19\" class=\"node\">\n<title>18</title>\n<path fill=\"#ea995e\" stroke=\"#000000\" d=\"M1063.5,-53C1063.5,-53 931.5,-53 931.5,-53 925.5,-53 919.5,-47 919.5,-41 919.5,-41 919.5,-12 919.5,-12 919.5,-6 925.5,0 931.5,0 931.5,0 1063.5,0 1063.5,0 1069.5,0 1075.5,-6 1075.5,-12 1075.5,-12 1075.5,-41 1075.5,-41 1075.5,-47 1069.5,-53 1063.5,-53\"/>\n<text text-anchor=\"middle\" x=\"997.5\" y=\"-37.8\" font-family=\"Helvetica,sans-Serif\" font-size=\"14.00\" fill=\"#000000\">samples = 7.6%</text>\n<text text-anchor=\"middle\" x=\"997.5\" y=\"-22.8\" font-family=\"Helvetica,sans-Serif\" font-size=\"14.00\" fill=\"#000000\">value = [0.842, 0.158]</text>\n<text text-anchor=\"middle\" x=\"997.5\" y=\"-7.8\" font-family=\"Helvetica,sans-Serif\" font-size=\"14.00\" fill=\"#000000\">class = fail</text>\n</g>\n<!-- 16&#45;&gt;18 -->\n<g id=\"edge18\" class=\"edge\">\n<title>16&#45;&gt;18</title>\n<path fill=\"none\" stroke=\"#000000\" d=\"M946.3524,-88.9777C953.7739,-79.9123 961.7977,-70.111 969.2407,-61.0192\"/>\n<polygon fill=\"#000000\" stroke=\"#000000\" points=\"971.9759,-63.2034 975.6023,-53.2485 966.5595,-58.7692 971.9759,-63.2034\"/>\n</g>\n<!-- 20 -->\n<g id=\"node21\" class=\"node\">\n<title>20</title>\n<path fill=\"#f2c09c\" stroke=\"#000000\" d=\"M1237.5,-53C1237.5,-53 1105.5,-53 1105.5,-53 1099.5,-53 1093.5,-47 1093.5,-41 1093.5,-41 1093.5,-12 1093.5,-12 1093.5,-6 1099.5,0 1105.5,0 1105.5,0 1237.5,0 1237.5,0 1243.5,0 1249.5,-6 1249.5,-12 1249.5,-12 1249.5,-41 1249.5,-41 1249.5,-47 1243.5,-53 1237.5,-53\"/>\n<text text-anchor=\"middle\" x=\"1171.5\" y=\"-37.8\" font-family=\"Helvetica,sans-Serif\" font-size=\"14.00\" fill=\"#000000\">samples = 1.8%</text>\n<text text-anchor=\"middle\" x=\"1171.5\" y=\"-22.8\" font-family=\"Helvetica,sans-Serif\" font-size=\"14.00\" fill=\"#000000\">value = [0.667, 0.333]</text>\n<text text-anchor=\"middle\" x=\"1171.5\" y=\"-7.8\" font-family=\"Helvetica,sans-Serif\" font-size=\"14.00\" fill=\"#000000\">class = fail</text>\n</g>\n<!-- 19&#45;&gt;20 -->\n<g id=\"edge20\" class=\"edge\">\n<title>19&#45;&gt;20</title>\n<path fill=\"none\" stroke=\"#000000\" d=\"M1171.5,-88.9777C1171.5,-80.7364 1171.5,-71.887 1171.5,-63.5153\"/>\n<polygon fill=\"#000000\" stroke=\"#000000\" points=\"1175.0001,-63.2484 1171.5,-53.2485 1168.0001,-63.2485 1175.0001,-63.2484\"/>\n</g>\n<!-- 21 -->\n<g id=\"node22\" class=\"node\">\n<title>21</title>\n<path fill=\"#61b1ea\" stroke=\"#000000\" d=\"M1411.5,-53C1411.5,-53 1279.5,-53 1279.5,-53 1273.5,-53 1267.5,-47 1267.5,-41 1267.5,-41 1267.5,-12 1267.5,-12 1267.5,-6 1273.5,0 1279.5,0 1279.5,0 1411.5,0 1411.5,0 1417.5,0 1423.5,-6 1423.5,-12 1423.5,-12 1423.5,-41 1423.5,-41 1423.5,-47 1417.5,-53 1411.5,-53\"/>\n<text text-anchor=\"middle\" x=\"1345.5\" y=\"-37.8\" font-family=\"Helvetica,sans-Serif\" font-size=\"14.00\" fill=\"#000000\">samples = 2.4%</text>\n<text text-anchor=\"middle\" x=\"1345.5\" y=\"-22.8\" font-family=\"Helvetica,sans-Serif\" font-size=\"14.00\" fill=\"#000000\">value = [0.167, 0.833]</text>\n<text text-anchor=\"middle\" x=\"1345.5\" y=\"-7.8\" font-family=\"Helvetica,sans-Serif\" font-size=\"14.00\" fill=\"#000000\">class = pass</text>\n</g>\n<!-- 19&#45;&gt;21 -->\n<g id=\"edge21\" class=\"edge\">\n<title>19&#45;&gt;21</title>\n<path fill=\"none\" stroke=\"#000000\" d=\"M1232.8459,-88.9777C1250.9262,-78.9504 1270.63,-68.0228 1288.4301,-58.1508\"/>\n<polygon fill=\"#000000\" stroke=\"#000000\" points=\"1290.4987,-61.0059 1297.5463,-53.095 1287.1036,-54.8843 1290.4987,-61.0059\"/>\n</g>\n<!-- 23 -->\n<g id=\"node24\" class=\"node\">\n<title>23</title>\n<path fill=\"#e6853f\" stroke=\"#000000\" d=\"M1490.5,-365C1490.5,-365 1374.5,-365 1374.5,-365 1368.5,-365 1362.5,-359 1362.5,-353 1362.5,-353 1362.5,-309 1362.5,-309 1362.5,-303 1368.5,-297 1374.5,-297 1374.5,-297 1490.5,-297 1490.5,-297 1496.5,-297 1502.5,-303 1502.5,-309 1502.5,-309 1502.5,-353 1502.5,-353 1502.5,-359 1496.5,-365 1490.5,-365\"/>\n<text text-anchor=\"middle\" x=\"1432.5\" y=\"-349.8\" font-family=\"Helvetica,sans-Serif\" font-size=\"14.00\" fill=\"#000000\">internet_no &lt;= 0.5</text>\n<text text-anchor=\"middle\" x=\"1432.5\" y=\"-334.8\" font-family=\"Helvetica,sans-Serif\" font-size=\"14.00\" fill=\"#000000\">samples = 13.4%</text>\n<text text-anchor=\"middle\" x=\"1432.5\" y=\"-319.8\" font-family=\"Helvetica,sans-Serif\" font-size=\"14.00\" fill=\"#000000\">value = [0.97, 0.03]</text>\n<text text-anchor=\"middle\" x=\"1432.5\" y=\"-304.8\" font-family=\"Helvetica,sans-Serif\" font-size=\"14.00\" fill=\"#000000\">class = fail</text>\n</g>\n<!-- 22&#45;&gt;23 -->\n<g id=\"edge23\" class=\"edge\">\n<title>22&#45;&gt;23</title>\n<path fill=\"none\" stroke=\"#000000\" d=\"M1432.5,-400.9465C1432.5,-392.776 1432.5,-383.9318 1432.5,-375.3697\"/>\n<polygon fill=\"#000000\" stroke=\"#000000\" points=\"1436.0001,-375.13 1432.5,-365.13 1429.0001,-375.13 1436.0001,-375.13\"/>\n</g>\n<!-- 30 -->\n<g id=\"node31\" class=\"node\">\n<title>30</title>\n<path fill=\"#eeab7b\" stroke=\"#000000\" d=\"M1727.5,-365C1727.5,-365 1611.5,-365 1611.5,-365 1605.5,-365 1599.5,-359 1599.5,-353 1599.5,-353 1599.5,-309 1599.5,-309 1599.5,-303 1605.5,-297 1611.5,-297 1611.5,-297 1727.5,-297 1727.5,-297 1733.5,-297 1739.5,-303 1739.5,-309 1739.5,-309 1739.5,-353 1739.5,-353 1739.5,-359 1733.5,-365 1727.5,-365\"/>\n<text text-anchor=\"middle\" x=\"1669.5\" y=\"-349.8\" font-family=\"Helvetica,sans-Serif\" font-size=\"14.00\" fill=\"#000000\">absences &lt;= 5.5</text>\n<text text-anchor=\"middle\" x=\"1669.5\" y=\"-334.8\" font-family=\"Helvetica,sans-Serif\" font-size=\"14.00\" fill=\"#000000\">samples = 2.4%</text>\n<text text-anchor=\"middle\" x=\"1669.5\" y=\"-319.8\" font-family=\"Helvetica,sans-Serif\" font-size=\"14.00\" fill=\"#000000\">value = [0.75, 0.25]</text>\n<text text-anchor=\"middle\" x=\"1669.5\" y=\"-304.8\" font-family=\"Helvetica,sans-Serif\" font-size=\"14.00\" fill=\"#000000\">class = fail</text>\n</g>\n<!-- 22&#45;&gt;30 -->\n<g id=\"edge30\" class=\"edge\">\n<title>22&#45;&gt;30</title>\n<path fill=\"none\" stroke=\"#000000\" d=\"M1510.1027,-400.9465C1535.7123,-389.7085 1564.2266,-377.1959 1589.9775,-365.896\"/>\n<polygon fill=\"#000000\" stroke=\"#000000\" points=\"1591.5784,-369.0157 1599.3291,-361.7923 1588.7656,-362.6057 1591.5784,-369.0157\"/>\n</g>\n<!-- 24 -->\n<g id=\"node25\" class=\"node\">\n<title>24</title>\n<path fill=\"#e58139\" stroke=\"#000000\" d=\"M1403,-253.5C1403,-253.5 1304,-253.5 1304,-253.5 1298,-253.5 1292,-247.5 1292,-241.5 1292,-241.5 1292,-212.5 1292,-212.5 1292,-206.5 1298,-200.5 1304,-200.5 1304,-200.5 1403,-200.5 1403,-200.5 1409,-200.5 1415,-206.5 1415,-212.5 1415,-212.5 1415,-241.5 1415,-241.5 1415,-247.5 1409,-253.5 1403,-253.5\"/>\n<text text-anchor=\"middle\" x=\"1353.5\" y=\"-238.3\" font-family=\"Helvetica,sans-Serif\" font-size=\"14.00\" fill=\"#000000\">samples = 9.2%</text>\n<text text-anchor=\"middle\" x=\"1353.5\" y=\"-223.3\" font-family=\"Helvetica,sans-Serif\" font-size=\"14.00\" fill=\"#000000\">value = [1.0, 0.0]</text>\n<text text-anchor=\"middle\" x=\"1353.5\" y=\"-208.3\" font-family=\"Helvetica,sans-Serif\" font-size=\"14.00\" fill=\"#000000\">class = fail</text>\n</g>\n<!-- 23&#45;&gt;24 -->\n<g id=\"edge24\" class=\"edge\">\n<title>23&#45;&gt;24</title>\n<path fill=\"none\" stroke=\"#000000\" d=\"M1406.6324,-296.9465C1398.0143,-285.6012 1388.4094,-272.9567 1379.7617,-261.5724\"/>\n<polygon fill=\"#000000\" stroke=\"#000000\" points=\"1382.4979,-259.3882 1373.6618,-253.5422 1376.9237,-263.6224 1382.4979,-259.3882\"/>\n</g>\n<!-- 25 -->\n<g id=\"node26\" class=\"node\">\n<title>25</title>\n<path fill=\"#e88e4e\" stroke=\"#000000\" d=\"M1577.5,-261C1577.5,-261 1445.5,-261 1445.5,-261 1439.5,-261 1433.5,-255 1433.5,-249 1433.5,-249 1433.5,-205 1433.5,-205 1433.5,-199 1439.5,-193 1445.5,-193 1445.5,-193 1577.5,-193 1577.5,-193 1583.5,-193 1589.5,-199 1589.5,-205 1589.5,-205 1589.5,-249 1589.5,-249 1589.5,-255 1583.5,-261 1577.5,-261\"/>\n<text text-anchor=\"middle\" x=\"1511.5\" y=\"-245.8\" font-family=\"Helvetica,sans-Serif\" font-size=\"14.00\" fill=\"#000000\">age &lt;= 19.5</text>\n<text text-anchor=\"middle\" x=\"1511.5\" y=\"-230.8\" font-family=\"Helvetica,sans-Serif\" font-size=\"14.00\" fill=\"#000000\">samples = 4.2%</text>\n<text text-anchor=\"middle\" x=\"1511.5\" y=\"-215.8\" font-family=\"Helvetica,sans-Serif\" font-size=\"14.00\" fill=\"#000000\">value = [0.905, 0.095]</text>\n<text text-anchor=\"middle\" x=\"1511.5\" y=\"-200.8\" font-family=\"Helvetica,sans-Serif\" font-size=\"14.00\" fill=\"#000000\">class = fail</text>\n</g>\n<!-- 23&#45;&gt;25 -->\n<g id=\"edge25\" class=\"edge\">\n<title>23&#45;&gt;25</title>\n<path fill=\"none\" stroke=\"#000000\" d=\"M1458.3676,-296.9465C1465.1196,-288.0578 1472.4774,-278.3716 1479.5059,-269.1188\"/>\n<polygon fill=\"#000000\" stroke=\"#000000\" points=\"1482.3125,-271.2102 1485.5743,-261.13 1476.7383,-266.976 1482.3125,-271.2102\"/>\n</g>\n<!-- 26 -->\n<g id=\"node27\" class=\"node\">\n<title>26</title>\n<path fill=\"#e68843\" stroke=\"#000000\" d=\"M1570,-157C1570,-157 1453,-157 1453,-157 1447,-157 1441,-151 1441,-145 1441,-145 1441,-101 1441,-101 1441,-95 1447,-89 1453,-89 1453,-89 1570,-89 1570,-89 1576,-89 1582,-95 1582,-101 1582,-101 1582,-145 1582,-145 1582,-151 1576,-157 1570,-157\"/>\n<text text-anchor=\"middle\" x=\"1511.5\" y=\"-141.8\" font-family=\"Helvetica,sans-Serif\" font-size=\"14.00\" fill=\"#000000\">nursery_yes &lt;= 0.5</text>\n<text text-anchor=\"middle\" x=\"1511.5\" y=\"-126.8\" font-family=\"Helvetica,sans-Serif\" font-size=\"14.00\" fill=\"#000000\">samples = 4.0%</text>\n<text text-anchor=\"middle\" x=\"1511.5\" y=\"-111.8\" font-family=\"Helvetica,sans-Serif\" font-size=\"14.00\" fill=\"#000000\">value = [0.95, 0.05]</text>\n<text text-anchor=\"middle\" x=\"1511.5\" y=\"-96.8\" font-family=\"Helvetica,sans-Serif\" font-size=\"14.00\" fill=\"#000000\">class = fail</text>\n</g>\n<!-- 25&#45;&gt;26 -->\n<g id=\"edge26\" class=\"edge\">\n<title>25&#45;&gt;26</title>\n<path fill=\"none\" stroke=\"#000000\" d=\"M1511.5,-192.9465C1511.5,-184.776 1511.5,-175.9318 1511.5,-167.3697\"/>\n<polygon fill=\"#000000\" stroke=\"#000000\" points=\"1515.0001,-167.13 1511.5,-157.13 1508.0001,-167.13 1515.0001,-167.13\"/>\n</g>\n<!-- 29 -->\n<g id=\"node30\" class=\"node\">\n<title>29</title>\n<path fill=\"#399de5\" stroke=\"#000000\" d=\"M1711,-149.5C1711,-149.5 1612,-149.5 1612,-149.5 1606,-149.5 1600,-143.5 1600,-137.5 1600,-137.5 1600,-108.5 1600,-108.5 1600,-102.5 1606,-96.5 1612,-96.5 1612,-96.5 1711,-96.5 1711,-96.5 1717,-96.5 1723,-102.5 1723,-108.5 1723,-108.5 1723,-137.5 1723,-137.5 1723,-143.5 1717,-149.5 1711,-149.5\"/>\n<text text-anchor=\"middle\" x=\"1661.5\" y=\"-134.3\" font-family=\"Helvetica,sans-Serif\" font-size=\"14.00\" fill=\"#000000\">samples = 0.2%</text>\n<text text-anchor=\"middle\" x=\"1661.5\" y=\"-119.3\" font-family=\"Helvetica,sans-Serif\" font-size=\"14.00\" fill=\"#000000\">value = [0.0, 1.0]</text>\n<text text-anchor=\"middle\" x=\"1661.5\" y=\"-104.3\" font-family=\"Helvetica,sans-Serif\" font-size=\"14.00\" fill=\"#000000\">class = pass</text>\n</g>\n<!-- 25&#45;&gt;29 -->\n<g id=\"edge29\" class=\"edge\">\n<title>25&#45;&gt;29</title>\n<path fill=\"none\" stroke=\"#000000\" d=\"M1560.6156,-192.9465C1578.0912,-180.8301 1597.7038,-167.232 1614.9573,-155.2696\"/>\n<polygon fill=\"#000000\" stroke=\"#000000\" points=\"1616.9943,-158.1163 1623.218,-149.5422 1613.0058,-152.3637 1616.9943,-158.1163\"/>\n</g>\n<!-- 27 -->\n<g id=\"node28\" class=\"node\">\n<title>27</title>\n<path fill=\"#eeab7b\" stroke=\"#000000\" d=\"M1569.5,-53C1569.5,-53 1453.5,-53 1453.5,-53 1447.5,-53 1441.5,-47 1441.5,-41 1441.5,-41 1441.5,-12 1441.5,-12 1441.5,-6 1447.5,0 1453.5,0 1453.5,0 1569.5,0 1569.5,0 1575.5,0 1581.5,-6 1581.5,-12 1581.5,-12 1581.5,-41 1581.5,-41 1581.5,-47 1575.5,-53 1569.5,-53\"/>\n<text text-anchor=\"middle\" x=\"1511.5\" y=\"-37.8\" font-family=\"Helvetica,sans-Serif\" font-size=\"14.00\" fill=\"#000000\">samples = 0.8%</text>\n<text text-anchor=\"middle\" x=\"1511.5\" y=\"-22.8\" font-family=\"Helvetica,sans-Serif\" font-size=\"14.00\" fill=\"#000000\">value = [0.75, 0.25]</text>\n<text text-anchor=\"middle\" x=\"1511.5\" y=\"-7.8\" font-family=\"Helvetica,sans-Serif\" font-size=\"14.00\" fill=\"#000000\">class = fail</text>\n</g>\n<!-- 26&#45;&gt;27 -->\n<g id=\"edge27\" class=\"edge\">\n<title>26&#45;&gt;27</title>\n<path fill=\"none\" stroke=\"#000000\" d=\"M1511.5,-88.9777C1511.5,-80.7364 1511.5,-71.887 1511.5,-63.5153\"/>\n<polygon fill=\"#000000\" stroke=\"#000000\" points=\"1515.0001,-63.2484 1511.5,-53.2485 1508.0001,-63.2485 1515.0001,-63.2484\"/>\n</g>\n<!-- 28 -->\n<g id=\"node29\" class=\"node\">\n<title>28</title>\n<path fill=\"#e58139\" stroke=\"#000000\" d=\"M1711,-53C1711,-53 1612,-53 1612,-53 1606,-53 1600,-47 1600,-41 1600,-41 1600,-12 1600,-12 1600,-6 1606,0 1612,0 1612,0 1711,0 1711,0 1717,0 1723,-6 1723,-12 1723,-12 1723,-41 1723,-41 1723,-47 1717,-53 1711,-53\"/>\n<text text-anchor=\"middle\" x=\"1661.5\" y=\"-37.8\" font-family=\"Helvetica,sans-Serif\" font-size=\"14.00\" fill=\"#000000\">samples = 3.2%</text>\n<text text-anchor=\"middle\" x=\"1661.5\" y=\"-22.8\" font-family=\"Helvetica,sans-Serif\" font-size=\"14.00\" fill=\"#000000\">value = [1.0, 0.0]</text>\n<text text-anchor=\"middle\" x=\"1661.5\" y=\"-7.8\" font-family=\"Helvetica,sans-Serif\" font-size=\"14.00\" fill=\"#000000\">class = fail</text>\n</g>\n<!-- 26&#45;&gt;28 -->\n<g id=\"edge28\" class=\"edge\">\n<title>26&#45;&gt;28</title>\n<path fill=\"none\" stroke=\"#000000\" d=\"M1564.3844,-88.9777C1579.6144,-79.1798 1596.1806,-68.5222 1611.2464,-58.8298\"/>\n<polygon fill=\"#000000\" stroke=\"#000000\" points=\"1613.4057,-61.6024 1619.9221,-53.2485 1609.6184,-55.7154 1613.4057,-61.6024\"/>\n</g>\n<!-- 31 -->\n<g id=\"node32\" class=\"node\">\n<title>31</title>\n<path fill=\"#e58139\" stroke=\"#000000\" d=\"M1719,-253.5C1719,-253.5 1620,-253.5 1620,-253.5 1614,-253.5 1608,-247.5 1608,-241.5 1608,-241.5 1608,-212.5 1608,-212.5 1608,-206.5 1614,-200.5 1620,-200.5 1620,-200.5 1719,-200.5 1719,-200.5 1725,-200.5 1731,-206.5 1731,-212.5 1731,-212.5 1731,-241.5 1731,-241.5 1731,-247.5 1725,-253.5 1719,-253.5\"/>\n<text text-anchor=\"middle\" x=\"1669.5\" y=\"-238.3\" font-family=\"Helvetica,sans-Serif\" font-size=\"14.00\" fill=\"#000000\">samples = 1.2%</text>\n<text text-anchor=\"middle\" x=\"1669.5\" y=\"-223.3\" font-family=\"Helvetica,sans-Serif\" font-size=\"14.00\" fill=\"#000000\">value = [1.0, 0.0]</text>\n<text text-anchor=\"middle\" x=\"1669.5\" y=\"-208.3\" font-family=\"Helvetica,sans-Serif\" font-size=\"14.00\" fill=\"#000000\">class = fail</text>\n</g>\n<!-- 30&#45;&gt;31 -->\n<g id=\"edge31\" class=\"edge\">\n<title>30&#45;&gt;31</title>\n<path fill=\"none\" stroke=\"#000000\" d=\"M1669.5,-296.9465C1669.5,-286.2621 1669.5,-274.4254 1669.5,-263.5742\"/>\n<polygon fill=\"#000000\" stroke=\"#000000\" points=\"1673.0001,-263.5421 1669.5,-253.5422 1666.0001,-263.5422 1673.0001,-263.5421\"/>\n</g>\n<!-- 32 -->\n<g id=\"node33\" class=\"node\">\n<title>32</title>\n<path fill=\"#ffffff\" stroke=\"#000000\" d=\"M1860,-261C1860,-261 1761,-261 1761,-261 1755,-261 1749,-255 1749,-249 1749,-249 1749,-205 1749,-205 1749,-199 1755,-193 1761,-193 1761,-193 1860,-193 1860,-193 1866,-193 1872,-199 1872,-205 1872,-205 1872,-249 1872,-249 1872,-255 1866,-261 1860,-261\"/>\n<text text-anchor=\"middle\" x=\"1810.5\" y=\"-245.8\" font-family=\"Helvetica,sans-Serif\" font-size=\"14.00\" fill=\"#000000\">Dalc &lt;= 2.5</text>\n<text text-anchor=\"middle\" x=\"1810.5\" y=\"-230.8\" font-family=\"Helvetica,sans-Serif\" font-size=\"14.00\" fill=\"#000000\">samples = 1.2%</text>\n<text text-anchor=\"middle\" x=\"1810.5\" y=\"-215.8\" font-family=\"Helvetica,sans-Serif\" font-size=\"14.00\" fill=\"#000000\">value = [0.5, 0.5]</text>\n<text text-anchor=\"middle\" x=\"1810.5\" y=\"-200.8\" font-family=\"Helvetica,sans-Serif\" font-size=\"14.00\" fill=\"#000000\">class = fail</text>\n</g>\n<!-- 30&#45;&gt;32 -->\n<g id=\"edge32\" class=\"edge\">\n<title>30&#45;&gt;32</title>\n<path fill=\"none\" stroke=\"#000000\" d=\"M1715.6687,-296.9465C1728.5719,-287.4293 1742.7145,-276.9978 1756.0483,-267.163\"/>\n<polygon fill=\"#000000\" stroke=\"#000000\" points=\"1758.2575,-269.8826 1764.2276,-261.13 1754.1023,-264.2492 1758.2575,-269.8826\"/>\n</g>\n<!-- 33 -->\n<g id=\"node34\" class=\"node\">\n<title>33</title>\n<path fill=\"#399de5\" stroke=\"#000000\" d=\"M1856,-149.5C1856,-149.5 1757,-149.5 1757,-149.5 1751,-149.5 1745,-143.5 1745,-137.5 1745,-137.5 1745,-108.5 1745,-108.5 1745,-102.5 1751,-96.5 1757,-96.5 1757,-96.5 1856,-96.5 1856,-96.5 1862,-96.5 1868,-102.5 1868,-108.5 1868,-108.5 1868,-137.5 1868,-137.5 1868,-143.5 1862,-149.5 1856,-149.5\"/>\n<text text-anchor=\"middle\" x=\"1806.5\" y=\"-134.3\" font-family=\"Helvetica,sans-Serif\" font-size=\"14.00\" fill=\"#000000\">samples = 0.6%</text>\n<text text-anchor=\"middle\" x=\"1806.5\" y=\"-119.3\" font-family=\"Helvetica,sans-Serif\" font-size=\"14.00\" fill=\"#000000\">value = [0.0, 1.0]</text>\n<text text-anchor=\"middle\" x=\"1806.5\" y=\"-104.3\" font-family=\"Helvetica,sans-Serif\" font-size=\"14.00\" fill=\"#000000\">class = pass</text>\n</g>\n<!-- 32&#45;&gt;33 -->\n<g id=\"edge33\" class=\"edge\">\n<title>32&#45;&gt;33</title>\n<path fill=\"none\" stroke=\"#000000\" d=\"M1809.1903,-192.9465C1808.7793,-182.2621 1808.3241,-170.4254 1807.9067,-159.5742\"/>\n<polygon fill=\"#000000\" stroke=\"#000000\" points=\"1811.4027,-159.4002 1807.5209,-149.5422 1804.4079,-159.6693 1811.4027,-159.4002\"/>\n</g>\n<!-- 34 -->\n<g id=\"node35\" class=\"node\">\n<title>34</title>\n<path fill=\"#e58139\" stroke=\"#000000\" d=\"M1997,-149.5C1997,-149.5 1898,-149.5 1898,-149.5 1892,-149.5 1886,-143.5 1886,-137.5 1886,-137.5 1886,-108.5 1886,-108.5 1886,-102.5 1892,-96.5 1898,-96.5 1898,-96.5 1997,-96.5 1997,-96.5 2003,-96.5 2009,-102.5 2009,-108.5 2009,-108.5 2009,-137.5 2009,-137.5 2009,-143.5 2003,-149.5 1997,-149.5\"/>\n<text text-anchor=\"middle\" x=\"1947.5\" y=\"-134.3\" font-family=\"Helvetica,sans-Serif\" font-size=\"14.00\" fill=\"#000000\">samples = 0.6%</text>\n<text text-anchor=\"middle\" x=\"1947.5\" y=\"-119.3\" font-family=\"Helvetica,sans-Serif\" font-size=\"14.00\" fill=\"#000000\">value = [1.0, 0.0]</text>\n<text text-anchor=\"middle\" x=\"1947.5\" y=\"-104.3\" font-family=\"Helvetica,sans-Serif\" font-size=\"14.00\" fill=\"#000000\">class = fail</text>\n</g>\n<!-- 32&#45;&gt;34 -->\n<g id=\"edge34\" class=\"edge\">\n<title>32&#45;&gt;34</title>\n<path fill=\"none\" stroke=\"#000000\" d=\"M1855.3589,-192.9465C1871.1748,-180.9403 1888.9073,-167.4791 1904.5607,-155.5962\"/>\n<polygon fill=\"#000000\" stroke=\"#000000\" points=\"1906.6871,-158.3764 1912.5358,-149.5422 1902.4545,-152.8009 1906.6871,-158.3764\"/>\n</g>\n</g>\n</svg>\n"
          },
          "metadata": {
            "tags": []
          },
          "execution_count": 61
        }
      ]
    },
    {
      "cell_type": "code",
      "metadata": {
        "id": "h1X_i9OnLBM2",
        "colab_type": "code",
        "outputId": "6eb43e5f-e6eb-413d-ca9b-531aa0cb5cd5",
        "colab": {
          "base_uri": "https://localhost:8080/",
          "height": 35
        }
      },
      "source": [
        "t.score(d_test_att, d_test_pass)  "
      ],
      "execution_count": 0,
      "outputs": [
        {
          "output_type": "execute_result",
          "data": {
            "text/plain": [
              "0.6778523489932886"
            ]
          },
          "metadata": {
            "tags": []
          },
          "execution_count": 62
        }
      ]
    },
    {
      "cell_type": "code",
      "metadata": {
        "id": "bwFSjpQzPXTt",
        "colab_type": "code",
        "outputId": "59bbed9d-a376-4591-f8e2-ca3d999b27aa",
        "colab": {
          "base_uri": "https://localhost:8080/",
          "height": 35
        }
      },
      "source": [
        "from sklearn.model_selection import cross_val_score\n",
        "scores = cross_val_score(t, d_att, d_pass, cv=5)\n",
        "# show average score and +/- two standard deviations away (covering 95% of scores)\n",
        "print(\"Accuracy: %0.2f (+/- %0.2f)\" % (scores.mean(), scores.std() * 2))"
      ],
      "execution_count": 0,
      "outputs": [
        {
          "output_type": "stream",
          "text": [
            "Accuracy: 0.67 (+/- 0.09)\n"
          ],
          "name": "stdout"
        }
      ]
    }
  ]
}